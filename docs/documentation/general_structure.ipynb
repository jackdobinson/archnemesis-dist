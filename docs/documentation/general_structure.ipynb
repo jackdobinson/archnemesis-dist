{
 "cells": [
  {
   "cell_type": "markdown",
   "id": "7f93abbb-ebb5-4098-90b2-ea216c95a3f6",
   "metadata": {},
   "source": [
    "# Introduction"
   ]
  },
  {
   "cell_type": "markdown",
   "id": "c159edf0-6cdf-4c08-a3ad-b9876b3dc8ae",
   "metadata": {},
   "source": [
    "archNEMESIS is an algorithm designed to 1) generate a forward model of the spectrum of a planetary atmosphere based on a set of input parameters, and 2) perform atmospheric retrievals, by which some of the input parameters are iteratively modified until the simulated spectrum best fits the measured one.\r\n",
    "The code can therefore be divided into four high-level parts\n",
    "\n",
    "- Reference classes: These classes include all the input information we require to model the electromagnetic spectrum of a planetary atmosphere, starting from the atmospheric and surface properties of the planet, to the geometry and specifics of the instrument response we want to simulate.\n",
    "  \n",
    "- .\r\n",
    "Model parameterisations: These are a set of parameters that are iteratively modified in our model to find the best fit between the modelled and measured spectrum. In atmospheric retrievals, these variables are more generally known as the state vect\n",
    "  \n",
    "- r.\r\n",
    "Forward model: It refers to the set of functions that solve the radiative transfer equation and allow the calculation of the spectrum based on the model inputs and parameterisati\n",
    "  \n",
    "- ns.\r\n",
    "Retrieval engine: It refers to the algorithm or methodology to solve the inverse problem – search for the set of model parameters that produce a best fit between the modelled and measured spec\n",
    "\n",
    "In the other sections of this documentation, we cover in detail each of these parts of the code.\n",
    "\n",
    "<img src=\"images/archNEMESIS_structure_v1.png\" alt=\"Drawing\" style=\"width: 800px;\"/>tail.\r\n"
   ]
  },
  {
   "cell_type": "markdown",
   "id": "9471a927-4d17-43a1-b4d4-4da09461bb8f",
   "metadata": {},
   "source": [
    "# Input files"
   ]
  },
  {
   "cell_type": "markdown",
   "id": "42423263-ff21-4dd7-9fd1-3eb5215847f2",
   "metadata": {},
   "source": []
  },
  {
   "cell_type": "markdown",
   "id": "aed796a9-2635-4abc-9767-bdb560e5d7d9",
   "metadata": {},
   "source": [
    "# Optimisation"
   ]
  },
  {
   "cell_type": "markdown",
   "id": "c1c5dabe-9ed3-4e1f-9bd1-b6b69cc2dc0d",
   "metadata": {},
   "source": []
  }
 ],
 "metadata": {
  "kernelspec": {
   "display_name": "Python 3 (ipykernel)",
   "language": "python",
   "name": "python3"
  },
  "language_info": {
   "codemirror_mode": {
    "name": "ipython",
    "version": 3
   },
   "file_extension": ".py",
   "mimetype": "text/x-python",
   "name": "python",
   "nbconvert_exporter": "python",
   "pygments_lexer": "ipython3",
   "version": "3.11.10"
  }
 },
 "nbformat": 4,
 "nbformat_minor": 5
}
