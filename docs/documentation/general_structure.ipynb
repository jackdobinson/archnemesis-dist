{
 "cells": [
  {
   "cell_type": "markdown",
   "id": "5c219948-bb3e-4474-a663-310f9c6426df",
   "metadata": {},
   "source": [
    "# Introduction"
   ]
  },
  {
   "cell_type": "markdown",
   "id": "72fb0629-adf1-47f1-b648-47023671c7f2",
   "metadata": {},
   "source": [
    "archNEMESIS is an algorithm designed to 1) generate a forward model of the spectrum of a planetary atmosphere based on a set of input parameters, and 2) perform atmospheric retrievals, by which some of the input parameters are iteratively modified until the simulated spectrum best fits the measured one.\n",
    "\n",
    "The code can be divided in four high-level parts:\n",
    "\n",
    "- Reference classes: These classes include all the input information we require to model the electromagnetic spectrum of a planetary atmosphere, starting from the atmospheric and surface properties of the planet, to the geometry and specifics of the instrument response we want to simulate.\n",
    "\n",
    "- Model parameterisations: These are a set of parameters that are iteratively modified in our model to find the best fit between the modelled and measured spectrum. In atmospheric retrievals, these variables are more generally known as the state vector.\n",
    "\n",
    "- Forward Model: It refers to the set of functions that solve the radiative transfer equation and allow the calculation of the spectrum based on the model inputs and parameterisations.\n",
    "\n",
    "- Retrieval engine: It refers to the algorithm or methodology to solve the inverse problem – search for the set of model parameters that produce a best fit between the modelled and measured spectrum.\n",
    "\n",
    "The figure below shows a high-level schematic of the structure of archNEMESIS for a forward model simulation. In the following sub-sections, we describe each of these parts in more detail.\n",
    "\n",
    "![Optional alt text](../images/archNEMESIS_structure_v1.png)"
   ]
  },
  {
   "cell_type": "markdown",
   "id": "a72ea71f-bef1-4c5b-b98c-a22d65a762c9",
   "metadata": {},
   "source": [
    "# Input files"
   ]
  },
  {
   "cell_type": "markdown",
   "id": "7298fbb1-c1c3-4bf3-82b1-9db346a720af",
   "metadata": {},
   "source": [
    "The information in archNEMESIS is generally read from a set of input files with a required specific format. There are two versions of the files that can be used, one using the existing standard NEMESIS input files, and another one specifically designed for using archNEMESIS."
   ]
  },
  {
   "cell_type": "markdown",
   "id": "68739811-b047-4887-9bac-1fdda5b4ca55",
   "metadata": {},
   "source": [
    "## Standard NEMESIS files\n",
    "\n",
    "NEMESIS reads the information from a set of text files with a specific format. Here we list the format of such required files.\n",
    "\n",
    "<!-- .ref -->\n",
    "<details>\n",
    "  <summary>.ref file</summary>\n",
    "\n",
    "  - **Short description:** This file includes the reference gaseous atmospheric profiles, containing the temperature, pressure and gas volume mixing ratios as a function of altitude. The units of the altitude, pressure and temperature field are in km, atm and K, but an automatic conversion is applied when reading/writing the files to the units of the *Atmosphere* class (m, Pa, K).\n",
    "    \n",
    "  - **How to read/write:** This file can be read/written with the *Atmosphere.read_ref()* and *Atmosphere.write_ref()* methods.\n",
    "\n",
    "</details>\n",
    "\n",
    "<!-- aerosol.ref -->\n",
    "<details>\n",
    "  <summary>aerosol.ref file</summary>\n",
    "\n",
    "  - **Short description:** This file includes the reference aerosol atmospheric profiles, containing the aerosol specific density as a function of altitude. The units of the values listed in this file are in particles per gram of atmosphere.\n",
    "  - **How to read/write:** This file can be read/written with the *Atmosphere.read_ref()* and *Atmosphere.write_ref()* methods.\n",
    "\n",
    "</details>\n",
    "\n",
    "\n",
    "<bg><bg>\n",
    "\n",
    "When using archNEMESIS to run a forward model or a retrieval using these inputs, the fastest and easiest way of reading all the inputs and properly feeding this into the reference classes is by using the *read_input_files* method.\n",
    "\n",
    "```python\n",
    "import archnemesis as ans\n",
    "Atmosphere,Measurement,Spectroscopy,Scatter,Stellar,Surface,CIA,Layer,Variables = ans.Files.read_input_files(runname)\n",
    "```\n",
    "\n",
    "## HDF5 archNEMESIS file\n",
    "\n"
   ]
  },
  {
   "cell_type": "code",
   "execution_count": null,
   "id": "cef2c7c0-c99b-4f29-a147-98b522576dcf",
   "metadata": {},
   "outputs": [],
   "source": []
  }
 ],
 "metadata": {
  "kernelspec": {
   "display_name": "Python 3 (ipykernel)",
   "language": "python",
   "name": "python3"
  },
  "language_info": {
   "codemirror_mode": {
    "name": "ipython",
    "version": 3
   },
   "file_extension": ".py",
   "mimetype": "text/x-python",
   "name": "python",
   "nbconvert_exporter": "python",
   "pygments_lexer": "ipython3",
   "version": "3.11.10"
  }
 },
 "nbformat": 4,
 "nbformat_minor": 5
}
