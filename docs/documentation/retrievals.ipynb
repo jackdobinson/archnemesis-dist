{
 "cells": [
  {
   "cell_type": "markdown",
   "id": "092585f6",
   "metadata": {},
   "source": [
    "# Introduction\n",
    "\n",
    "In order to obtain information about the structure and composition of a planetary atmosphere from its electromagnetic spectrum, apart from the radiative transfer model, which relates the atmospheric parameters to the modelled spectrum, we need a retrieval tool to solve the inverse problem, which allows us to estimate what atmospheric parameters provide a best fit between the modelled and measured spectrum. There are several algorithms and techniques that can be applied to solve the inverse problem, each with its own advantages and disadvantages. In archNEMESIS, two different retrieval methodologies can be applied: optimal estimation and nested sampling. \n",
    "\n",
    "<img src=\"../images/archNEMESIS_retrieval.png\" alt=\"Drawing\" style=\"width: 800px;\"/>"
   ]
  },
  {
   "cell_type": "markdown",
   "id": "82766628",
   "metadata": {},
   "source": [
    "# Optimal Estimation\n",
    "\n",
    "## Description of the algorithm\n",
    "\n",
    "**NOTE**: A complete description of the implementation of the Optimal Estimation framework in NEMESIS is given in [Irwin et al. (2008)](https://doi.org/10.1016/j.jqsrt.2007.11.006).  \n",
    "\n",
    "NEMESIS uses the non-linear optimal estimator formalism [(Rodgers, 2000)](https://www.worldscientific.com/worldscibooks/10.1142/3171), which iteratively minimises the difference between the modelled and measured spectra, subject to a minimum departure from an *a priori* state of the atmosphere, by minimising the cost function\n",
    "\n",
    "$$\n",
    "   \\phi = (\\mathbf{y}_m - \\mathbf{y}_n)^T \\mathbf{S}_{\\epsilon}^{-1} (\\mathbf{y}_m - \\mathbf{y}_n) + (\\mathbf{x}_n - \\mathbf{x}_a)^T \\mathbf{S}_a^{-1} (\\mathbf{x}_n - \\mathbf{x}_a),\n",
    "$$\n",
    "\n",
    "where $\\mathbf{y}_m$ is the measured spectrum, $\\mathbf{y}_n$ is the synthetic spectrum calculated using the forward model, $\\mathbf{x}_n$ is the state vector, which includes the atmospheric parameters to be retrieved, $\\mathbf{S}_{\\epsilon}$ is the measurement covariance matrix, $\\mathbf{x}_a$ is the *a priori* state vector and $\\mathbf{S}_a$ is the *a priori* covariance matrix.\n",
    "\n",
    "For atmospheric sounding in the Earth's atmosphere, climatology provides good statistics about the *a priori* state vector and covariance matrix. However, for planetary atmospheres no such statistical record exists, and in that case the diagonal elements of the *a priori* covariance matrix are set to the square of the estimated errors in the *a priori* state vector. In the case of retrieving continuous vertical profiles, the values at different altitudes are assumed to be correlated, and the off-diagonal terms of $\\mathbf{S}_a$ are then set to follow\n",
    "\n",
    "$$\n",
    "S_{ij} = \\sqrt{S_{ii}S_{jj}} \\cdot \\exp\\left(-\\dfrac{|\\ln{p_i/p_j}|}{L_c}\\right)\n",
    "$$\n",
    "\n",
    "where $p_i$ represents the pressure at the *i*th level and $L_c$ is the correlation length, equivalent to the number of scale heights over which the continuous profile is assumed to be correlated.\n",
    "\n",
    "The retrieval procedure NEMESIS applies to minimise the cost function is to calculate the state vector in the next iteration as\n",
    "\n",
    "$$\n",
    "\\mathbf{x}_{n+1} = \\mathbf{x}_0 + \\mathbf{S}_a \\mathbf{K}_n^T (\\mathbf{K}_n \\mathbf{S}_a \\mathbf{K}_n^T + \\mathbf{S}_\\epsilon)^{-1}(\\mathbf{y}_m - \\mathbf{y}_n - \\mathbf{K}_n(\\mathbf{x}_a - \\mathbf{x}_n) )\n",
    "$$\n",
    "\n",
    "where $\\mathbf{K}_n$ is the Jacobian matrix at the $n$th iteration, which represents the derivatives of  spectra at each wavelength with respect to each of the elements in the state vector. However, the convergence of the retrieval using this equation can be unstable due to the great variability of $\\mathbf{K}_n$ over iterations. Instead, NEMESIS uses a scheme based on the Marquardt–Levenberg principal, in which the state vector at the next iteration is modified so that it follows\n",
    "\n",
    "$$\n",
    "\\mathbf{x}'_{n+1} = \\mathbf{x}_n + \\dfrac{\\mathbf{x}_{n+1} - \\mathbf{x}_n}{1 + \\lambda},\n",
    "$$\n",
    "\n",
    "where $\\lambda$ is initially set to 1. If the spectrum calculated using $\\mathbf{x}'_{n+1}$ reduces the cost function, then $\\mathbf{x}'_{n+1}$ is used as $\\mathbf{x}_n$ in the next iteration, and $\\lambda$ is multiplied by 0.3. In the opposite case, in which $\\mathbf{x}'_{n+1}$ actually increases the cost function, then $\\mathbf{x}_n$ is kept and the value of $\\lambda$ is multiplied by 10. As the code converges, $\\lambda \\longrightarrow 0$ and $\\mathbf{x}_n$ tends to the optimal estimate. \n",
    "\n",
    "The error in the optimal estimate is estimated to be the result of two main contributions. The first contribution is the smoothing error $\\mathbf{S}_s$, which can be regarded as the effect in which the observing system smooths the profile. In such a case, the retrieval can be regarded as an estimate of the smoothed state rather than an estimate of the true state, or what is equivalent, an estimate of the true state, but with an error contribution due to smoothing. This contribution to the retrieved error can be calculated as:\n",
    "\n",
    "$$\n",
    "\\mathbf{S}_s = (\\mathbf{K}^T \\mathbf{S}_\\epsilon^{-1} \\mathbf{K} + \\mathbf{S}_a^{-1})^{-1} \\mathbf{S}_a^{-1} (\\mathbf{K}^T \\mathbf{S}_\\epsilon^{-1} \\mathbf{K} +  \\mathbf{S}_a^{-1})^{-1}.\n",
    "$$\n",
    "\n",
    "The second contribution to the retrieved uncertainty comes from the propagation of the measurement error to the state vector. The covariance matrix of the retrieval noise can be calculated as\n",
    "\n",
    "$$\n",
    "\\mathbf{S}_m = (\\mathbf{K}^T \\mathbf{S}_\\epsilon^{-1} \\mathbf{K} + \\mathbf{S}_a^{-1})^{-1} \\mathbf{K}^T \\mathbf{S}_\\epsilon^{-1} \\mathbf{K} (\\mathbf{K}^T \\mathbf{S}_\\epsilon^{-1} \\mathbf{K} + \\mathbf{S}_a^{-1})^{-1}.\n",
    "$$\n",
    "\n",
    "In NEMESIS, the measurement error covariance matrix $\\mathbf{S}_\\epsilon$ is assumed diagonal, with each of the diagonal elements corresponding to the measured instrument noise equivalent transmission units. In addition, NEMESIS also allows the introduction of a forward modelling error (e.g., can be used to incorporate uncertainties in the line databases) to the measurement error covariance matrix, to set how well we think we can fit the spectra.\n",
    "\n",
    "These two main contributions form the total retrieved uncertainty in the state vector, which is given by\n",
    "\n",
    "$$\n",
    "\\mathbf{S}_t = \\mathbf{S}_m + \\mathbf{S}_s =  (\\mathbf{K}^T \\mathbf{S}_\\epsilon^{-1} \\mathbf{K} + \\mathbf{S}_a^{-1})^{-1}.\n",
    "$$\n",
    "\n",
    "## Running an optimal estimation retrieval\n",
    "\n",
    "In order to run the retrieval using the optimal estimation formalism, we need to include some extra parameters with respect to when running a forward model. In particular, the parameters we need to specify are:\n",
    "\n",
    "- The maximum number of iterations (NITER). If NITER is set to -1, then the program will only run a forward model and will calculate the Jacobian matrix, but will not iterate the model parameters to improve the fit between the modelled and measured spectrum. This parameter is either specified in the NEMESIS .inp file or in the archNEMESIS HDF5 file.\n",
    "\n",
    "- The retrieval will stop if a convergence criterion is satisfied - the reduction of the cost function $\\phi$ is lower than a given factor (PHILIMIT). This parameter is either specified in the NEMESIS .inp file or in the archNEMESIS HDF5 file.\n",
    "\n",
    "- The initial model parameters (i.e., $\\mathbf{x}_a$) and the a priori uncertainties (i.e., $\\mathbf{S}_a$) are specified in the .apr file. This file is also required when running a forward model, but the information about the uncertainties is only used in retrievals. \n",
    "\n",
    "Once all the required information has been specified in the input files, we can easily run the retrieval by using the following code."
   ]
  },
  {
   "cell_type": "markdown",
   "id": "e40975bb-9db6-4a0d-9af4-fccf91663878",
   "metadata": {},
   "source": [
    "```python\n",
    "import archnemesis as ans\n",
    "\n",
    "legacy_files=True   #(True = standard NEMESIS files ; False = archNEMESIS HDF5 file)\n",
    "retrieval_method=0  #(0 - optimal estimation ; 1 - nested sampling)\n",
    "NCores=10           #Number of parallel processes to use for the computations\n",
    "\n",
    "ans.Retrievals.retrieval_nemesis(runname,legacy_files=legacy_files,retrieval_method=retrieval_method,NCores=NCores)\n",
    "```"
   ]
  },
  {
   "cell_type": "markdown",
   "id": "49d7e30d-b43f-41eb-ac6f-bcb966be9d96",
   "metadata": {},
   "source": [
    "Once the retrieval has finished, it will write the outputs either to the NEMESIS .mre and .cov files, or to the archNEMESIS HDF5 file. Please read the section about [output files](https://archnemesis.readthedocs.io/en/latest/documentation/general_structure.html#Output-files) to get an insight on how to read the results from optimal estimation retrievals."
   ]
  },
  {
   "cell_type": "markdown",
   "id": "0d7043a2",
   "metadata": {},
   "source": [
    "# Nested Sampling\n"
   ]
  },
  {
   "cell_type": "markdown",
   "id": "356346d3-61b6-4c6d-9477-1143ea6d00b4",
   "metadata": {},
   "source": [
    "## Introduction\n",
    "\n",
    "Nested sampling is a Bayesian inference method. The Bayes theorem is mathematically expressed as \n",
    "\n",
    "$P(\\theta | D) = \\dfrac{P(D | \\theta) P(\\theta))}{P(D)}$,\n",
    "\n",
    "where $P(\\theta | D)$ is the posterior distribution (i.e, probability of the parameters $\\theta$ given the data $D$), $P(D | \\theta)$ is the likelihood (i.e., probability of the data $D$ given the parameters $\\theta$), $P(\\theta)$ is the prior distribution (i.e., probability of the parameters $\\theta$ before seeing the data), and $P(D)$ is the marginal likelihood or the Bayesian evidence,which is a normalising constant ensuring that the posterior distribution integrates to 1.\n",
    "\n",
    "In standard MCMC sampling methods the evidence is typically ignored and they explore the parameter space to find the posterior distribution. Nested sampling (Skilling 2004) is a Monte Carlo technique aimed at efficient evaluation of the Bayesian evidence, but also produces posterior inferences as a by-product. Therefore, given a set of measured data, nested sampling will explore the parameter space and will provide information about the posterior distribution (i.e., the probability of model parameters given the measured data).\n",
    "\n",
    "ArchNEMESIS does not include an explicit implementation of the nested sampling algorithm, but uses instead the retrieval engine from [pymultinest](https://johannesbuchner.github.io/PyMultiNest/). This python library relies on the *MultiNest* nested sampling implementation, which must be compiled before installing pymultinest."
   ]
  },
  {
   "cell_type": "markdown",
   "id": "1e0d91ed-392c-4a5a-bc0c-fc1388b0a9cb",
   "metadata": {},
   "source": [
    "## Compiling MultiNest\n",
    "\n",
    "For background on nested sampling, see the Ultranest documention [here.](https://johannesbuchner.github.io/UltraNest/method.html) Note that Ultranest is not actually used in archNEMESIS (pymultinest is). "
   ]
  },
  {
   "cell_type": "markdown",
   "id": "6c9726fe",
   "metadata": {},
   "source": [
    "## Running a nested sampling retrieval\n",
    "\n",
    "In order to run the retrieval using the nested sampling algorithm, we need to include some extra parameters with respect to when running a forward model. In particular, the parameters we need to specify are:\n",
    "\n",
    "- The initial model parameters (i.e., $\\mathbf{x}_a$) and the a priori uncertainties are specified in the .apr file. This file is also required when running a forward model, but the information about the uncertainties is only used in retrievals. In particular, for nested sampling retrievals, the a priori uncertainties will determine the prior distribution for the Bayesian evidence (i.e., $P(\\theta)$).\n",
    "\n",
    "Once all the required information has been specified in the input files, we can easily run the retrieval by using the following code."
   ]
  },
  {
   "cell_type": "markdown",
   "id": "906c795c-e4e7-434b-891b-c76dae176fdc",
   "metadata": {},
   "source": [
    "```python\n",
    "import archnemesis as ans\n",
    "\n",
    "legacy_files=True   #(True = standard NEMESIS files ; False = archNEMESIS HDF5 file)\n",
    "retrieval_method=1  #(0 - optimal estimation ; 1 - nested sampling)\n",
    "NCores=10           #Number of parallel processes to use for the computations\n",
    "\n",
    "ans.Retrievals.retrieval_nemesis(runname,legacy_files=legacy_files,retrieval_method=retrieval_method,NCores=NCores)\n",
    "```"
   ]
  },
  {
   "cell_type": "markdown",
   "id": "d4d826c4",
   "metadata": {},
   "source": [
    "Once the retrieval has finished, the results (i.e., best fit to the spectrum and the posterior distributions) are stored in output files that can be read with..."
   ]
  }
 ],
 "metadata": {
  "kernelspec": {
   "display_name": "Python 3 (ipykernel)",
   "language": "python",
   "name": "python3"
  },
  "language_info": {
   "codemirror_mode": {
    "name": "ipython",
    "version": 3
   },
   "file_extension": ".py",
   "mimetype": "text/x-python",
   "name": "python",
   "nbconvert_exporter": "python",
   "pygments_lexer": "ipython3",
   "version": "3.11.10"
  }
 },
 "nbformat": 4,
 "nbformat_minor": 5
}
