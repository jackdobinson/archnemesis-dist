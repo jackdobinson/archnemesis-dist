{
 "cells": [
  {
   "cell_type": "markdown",
   "id": "7ee5a4d6-f47e-4d4c-ad66-eb28ff12a97e",
   "metadata": {},
   "source": [
    "# Structure of standard forward model"
   ]
  },
  {
   "cell_type": "markdown",
   "id": "1cbdfa57-0664-47e6-bdca-14ad587e6a34",
   "metadata": {},
   "source": [
    "The forward model refers to the set of functions in which the electromagnetic spectrum of a planetary atmosphere is calculated based on the information from the reference classes and the selected model parameterisations. In archNEMESIS, all these functions are implemented in the ForwardModel class. In essence, the inputs of the ForwardModel class are the reference classes and the Variables class, and the information within this class is used to perform the radiative transfer calculations and calculate the spectra.\n",
    "\n",
    "The figure below shows a sketch of the most relevant functions within the standard forward model implementation in archNEMESIS. As mentioned, the inputs of the ForwardModel class are the reference classes and the model parameterisations, which are fed into the subprofretg method of this class. In this function, the reference classes are modified based on the selected model parameterisations, and the updated information is returned. After this, the calc_path method of the ForwardModel class splits the atmosphere into a finite number of layers and the atmospheric paths are calculated based on the geometry of the observation. CIRSrad is the main method where the radiative transfer calculations are performed, first calculating the relevant optical properties of each layer (e.g., absorption and scattering optical depths), solving the multiple scattering field if required (Plass et al., 1973), and finally calculating the electromagnetic spectrum of the planet. After the spectrum has been calculated, the subspecret method is in charge of modifying it based on any relevant model parameterisations that might be added to mimic some instrument characteristics. Finally, the updated spectrum is convolved with the instrument lineshape to account for the spectral resolution of the instrument. \n",
    "\n",
    "<img src=\"images/archNEMESIS_structure_v1.png\" alt=\"Drawing\" style=\"width: 800px;\"/>"
   ]
  },
  {
   "cell_type": "markdown",
   "id": "7ab72ecd-9c5f-45dd-8024-41a695f1df7e",
   "metadata": {},
   "source": [
    "# Special cases"
   ]
  },
  {
   "cell_type": "code",
   "execution_count": null,
   "id": "fd144825-eb6a-45ee-a0f3-4aa3b7d08b11",
   "metadata": {},
   "outputs": [],
   "source": []
  }
 ],
 "metadata": {
  "kernelspec": {
   "display_name": "Python 3 (ipykernel)",
   "language": "python",
   "name": "python3"
  },
  "language_info": {
   "codemirror_mode": {
    "name": "ipython",
    "version": 3
   },
   "file_extension": ".py",
   "mimetype": "text/x-python",
   "name": "python",
   "nbconvert_exporter": "python",
   "pygments_lexer": "ipython3",
   "version": "3.11.10"
  }
 },
 "nbformat": 4,
 "nbformat_minor": 5
}
