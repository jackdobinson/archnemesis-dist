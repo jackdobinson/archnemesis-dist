{
 "cells": [
  {
   "cell_type": "markdown",
   "id": "199b249a-622e-481a-86b9-599978f3b9e2",
   "metadata": {},
   "source": [
    "# Model parameterisations\n",
    "\n",
    "<div class=\"alert alert-info\">\n",
    "\n",
    "Summary\n",
    "\n",
    "The Atmosphere class includes information, as its name suggests, about the planetary atmosphere we want to model. In particular, it includes information about the planet basic properties (e.g. mass, radius), and more specifically about its atmosphere including the reference vertical profiles for the gaseous species (e.g., altitude, pressure, temperature, gas mixing ratios), as well as for the suspended aerosols in the atmosphere (e.g., dust particles, clouds, etc.). For most applications, the atmosphere of a single column of the planet needs to be defined at a specified latitude and longitude. Nevertheless, the Atmosphere class also includes the possibility of defining reference vertical profiles at multiple latitudes and longitudes.\n",
    "\n",
    "</div>"
   ]
  },
  {
   "cell_type": "markdown",
   "id": "99af2a9a-5a7a-421b-93d8-2757322b1dd0",
   "metadata": {},
   "source": [
    "## Implemented model parameterisations\n",
    "\n",
    "The model parameterisations have the purpose of modifying the information in the reference classes according to a smaller number of parameters. This is especially important for retrievals, when these parameters are modified in each iteration to find the best fit between the modelled and measured spectra. Each of the model parameterisations is defined by some Variable IDs and Variable parameters, which are defined in the *.apr* file. This file can be read using the *read_apr* function on the Variables class. \n",
    "\n",
    "At this stage, only a number of models have been implemented in archNEMESIS with respect to NEMESIS. Detailed information about each of the model parameterisations is included in the Examples. In the following, a brief summary describing each of these models is included:\n"
   ]
  },
  {
   "cell_type": "raw",
   "id": "78529677-a6c8-462d-9a3d-8730c71661f0",
   "metadata": {},
   "source": [
    "<!-- MODEL 0 -->\n",
    "\n",
    "<div style=\"margin-bottom: 0.5em;\">\n",
    "<details>\n",
    "  <summary>Model 0: Continuous atmospheric vertical profile.</summary>\n",
    "  \n",
    "  <ul style=\"list-style-type: disc;\">\n",
    "    <li><b>No. of parameters:</b> NP</li>\n",
    "    <li><b>No. of extra parameters:</b> 0</li>\n",
    "    <li><b>Short description:</b> Specify the values of all vertical levels of the atmospheric profiles.</li>\n",
    "    <li>\n",
    "      <b>Format in .apr file:</b>\n",
    "      <ul style=\"list-style-type: square;\">\n",
    "        <li>Number of vertical levels (NP) | Correlation length</li>\n",
    "        <li>Pressure (level 1) | Value (level 1) | Uncertainty (level 1)</li>\n",
    "        <li>...</li>\n",
    "        <li>Pressure (level NP) | Value (level NP) | Uncertainty (level NP)</li>\n",
    "      </ul>\n",
    "    </li>\n",
    "  </ul>\n",
    "</details>\n",
    "</div>"
   ]
  },
  {
   "cell_type": "raw",
   "id": "6d0ff96d-c477-4bb5-b403-a80c7e01d528",
   "metadata": {},
   "source": [
    "<!-- MODEL 2 -->\n",
    "\n",
    "<div style=\"margin-bottom: 0.5em;\">\n",
    "<details>\n",
    "  <summary>Model 2: Scaling of an atmospheric vertical profile.</summary>\n",
    "\n",
    "  <ul style=\"list-style-type: disc;\">\n",
    "    <li><b>No. of parameters:</b> 1</li>\n",
    "    <li><b>No. of extra parameters:</b> 0</li>\n",
    "    <li><b>Short description:</b> Multiply vertical profile with a scaling factor.</li>\n",
    "    <li>\n",
    "      <b>Format in .apr file:</b>\n",
    "      <ul style=\"list-style-type: square;\">\n",
    "        <li>Scaling factor | Uncertainty</li>\n",
    "      </ul>\n",
    "    </li>\n",
    "  </ul>\n",
    "\n",
    "</details>\n",
    "</div>"
   ]
  },
  {
   "cell_type": "raw",
   "id": "338d9d9f-0921-401d-ac99-9fe3c49b7e40",
   "metadata": {},
   "source": [
    "<!-- Model 3 -->\n",
    "\n",
    "<div style=\"margin-bottom: 0.5em;\">\n",
    "<details>\n",
    "  <summary>Model 3: Scaling of an atmospheric vertical profile (carried in log-space).</summary>\n",
    "\n",
    "  <ul style=\"list-style-type: disc;\">\n",
    "    <li><b>No. of parameters:</b> 1</li>\n",
    "    <li><b>No. of extra parameters:</b> 0</li>\n",
    "    <li>\n",
    "      <b>Short description:</b> Multiply vertical profile with a scaling factor. Internally within\n",
    "      the code this scaling factor is converted to log-space. This is suitable for quantities\n",
    "      that can vary over orders of magnitudes and that cannot go negative.\n",
    "    </li>\n",
    "    <li>\n",
    "      <b>Format in .apr file:</b>\n",
    "      <ul style=\"list-style-type: square;\">\n",
    "        <li>Scaling factor | Uncertainty</li>\n",
    "      </ul>\n",
    "    </li>\n",
    "  </ul>\n",
    "\n",
    "</details>\n",
    "</div>"
   ]
  },
  {
   "cell_type": "raw",
   "id": "a13bf768-245b-4445-94d9-436f53a7528e",
   "metadata": {},
   "source": [
    "<!-- Model 9 -->\n",
    "\n",
    "<div style=\"margin-bottom: 0.5em;\">\n",
    "<details>\n",
    "  <summary>Model 9: Cloud represented by base height, optical depth and fractional scale height.</summary>\n",
    "\n",
    "  <ul style=\"list-style-type: disc;\">\n",
    "    <li><b>No. of parameters:</b> 3</li>\n",
    "    <li><b>No. of extra parameters:</b> 0</li>\n",
    "    <li>\n",
    "      <b>Short description:</b> The vertical distribution of the cloud is parameterised by its base altitude and a fractional scale height. The total vertically-integrated optical depth of the cloud is also specified. \n",
    "    </li>\n",
    "    <li>\n",
    "      <b>Format in .apr file:</b>\n",
    "      <ul style=\"list-style-type: square;\">\n",
    "        <li>Base altitude (km) | Uncertainty</li>\n",
    "        <li>Optical depth | Uncertainty</li>\n",
    "        <li>Fractional scale height (km) | Uncertainty</li>\n",
    "      </ul>\n",
    "    </li>\n",
    "  </ul>\n",
    "\n",
    "</details>\n",
    "</div>"
   ]
  },
  {
   "cell_type": "raw",
   "id": "fcc9a0f5-1548-4020-b44c-f155c9a70fe1",
   "metadata": {},
   "source": [
    "<!-- Model 32 -->\n",
    "\n",
    "<div style=\"margin-bottom: 0.5em;\">\n",
    "<details>\n",
    "  <summary>Model 32: Cloud represented by base pressure, optical depth and fractional scale height.</summary>\n",
    "\n",
    "  <ul style=\"list-style-type: disc;\">\n",
    "    <li><b>No. of parameters:</b> 3</li>\n",
    "    <li><b>No. of extra parameters:</b> 0</li>\n",
    "    <li>\n",
    "      <b>Short description:</b> The vertical distribution of the cloud is parameterised by its base pressure and a fractional scale height. Below the base altitude the cloud decreases exponentially with a fractional scale height of 1 km. The total vertically-integrated optical depth of the cloud is also specified. \n",
    "    </li>\n",
    "    <li>\n",
    "      <b>Format in .apr file:</b>\n",
    "      <ul style=\"list-style-type: square;\">\n",
    "        <li>Base pressure (atm) | Uncertainty</li>\n",
    "        <li>Optical depth | Uncertainty</li>\n",
    "        <li>Fractional scale height (km) | Uncertainty</li>\n",
    "      </ul>\n",
    "    </li>\n",
    "  </ul>\n",
    "\n",
    "</details>\n",
    "</div>"
   ]
  },
  {
   "cell_type": "markdown",
   "id": "2a8e1c2c-c292-46de-a401-1432b77509d4",
   "metadata": {},
   "source": [
    "| Model ID | No. of parameters | No. of extra parameters | Description |\n",
    "| --- | --- | --- | --- |\n",
    "| 45 | 3 | 0 | Irwin CH4 model. Variable deep tropospheric abundance, tropospheric relative humidity, and stratospheric abundance.|\n",
    "| 47 | 3 | 0 | Gaussian cloud represented by optical thickness, mean pressure and FWHM in units of log pressure. | |\n",
    "| 49 | NP | 0 | Continuous atmospheric vertical profile in linear scale (i.e., allowing negative abundances) |\n",
    "| 50 | NP | 0 | Continuous profile of scaling factors in linear scale |\n",
    "| 51 | 1 | 0 | Parameterisation 49 in NEMESIS. Profile is a simple scaling of a different profile. |\n",
    "| 229 | 7 | 0 | Model for double-Gaussian instrument line shape for ACS MIR/TGO (Alday et al. 2019) |\n",
    "| 231 | NGEOM $\\times$ (NDEGREE+1) | 2 | Scaling of spectra using a spectrally-varying scaling factor (following a polynomial of degree N) |\n",
    "| 444 | 2+N_REFIND_IM | 0 | Size distribution and imaginary refractive index spectrum of aerosol species |\n",
    "| 447 | 1 | 0 | Doppler velocity of the measurement in km/s |\n",
    "| 666 | 1 | 1 | Definition of pressure at a given tangent height, with the rest of the levels being calculated through the hydrostatic equilibrium equation |\n",
    "| 667 | 1 | 0 | Scaling of modelled spectrum with a dillution factor |\n",
    "| 2310 | NGEOM $\\times$ (NDEGREE+1) $\\times$ NWINDOWS | 3 | Same as model 231 but applying it to different spectral windows |"
   ]
  },
  {
   "cell_type": "markdown",
   "id": "c3e37799-735a-4dae-ab11-b0a071de1627",
   "metadata": {},
   "source": [
    "## Adding custom model parameterisations\n",
    "\n",
    "It is possible that the users may want to define their own custom parameterisations, to create new retrieval schemes for the specific purposes. In order to do so, one must implement the following steps:\n",
    "\n",
    "1. Select one model parameterisation ID number, considering the numbers already taken by others.\n",
    "2. Open the file for the class *Variables_0.py*, and change the function *read_apr()* to tell archNEMESIS how to read this parameterisation from the *.apr* file. In this function, different fields must be properly filled:\n",
    "   - Variables.VARIDENT : This field represents the Variable IDs, unique for this model parameterisation.\n",
    "   - Variables.VARPARAM : This field represents any extra parameters the code needs to read to properly represent the parameterisation, but that will not be retrieved (i.e., they are not included in the state vector).\n",
    "   - Variables.XA : This field represents the state vector and must be filled accordingly based on the parameters stored on the *.apr* file.\n",
    "   - Variables.SA : This field represents the a priori covariance matrix and must be filled accordingly based on the parameters stored on the *.apr* file.\n",
    "   - Variables.LX : This field tells whether a particular element of the state vector is carried in log-scale.\n",
    "   - Variables.NUM : This field tells whether the jacobian matrix for this particular element of the state vector can be computed analytically (0) or numerically (1).\n",
    "   \n",
    "3. Open the file for the class *Variables_0.py*, and change the function *calc_NXVAR()* to tell archNEMESIS the number of parameters in the state vector associated with this particular model parameterisation.\n",
    "4. Open the file *subprofretg.py*, which maps the variables of the state vector to the different classes included in the forward model (e.g., Atmosphere, Surface...), as well as the gradients in the case that these are calculated analytically."
   ]
  }
 ],
 "metadata": {
  "kernelspec": {
   "display_name": "Python 3 (ipykernel)",
   "language": "python",
   "name": "python3"
  },
  "language_info": {
   "codemirror_mode": {
    "name": "ipython",
    "version": 3
   },
   "file_extension": ".py",
   "mimetype": "text/x-python",
   "name": "python",
   "nbconvert_exporter": "python",
   "pygments_lexer": "ipython3",
   "version": "3.11.10"
  }
 },
 "nbformat": 4,
 "nbformat_minor": 5
}
