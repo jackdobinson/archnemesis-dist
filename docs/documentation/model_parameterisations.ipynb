{
 "cells": [
  {
   "cell_type": "markdown",
   "id": "199b249a-622e-481a-86b9-599978f3b9e2",
   "metadata": {},
   "source": [
    "# Model parameterisations"
   ]
  },
  {
   "cell_type": "markdown",
   "id": "99af2a9a-5a7a-421b-93d8-2757322b1dd0",
   "metadata": {},
   "source": [
    "## Implemented model parameterisations\n",
    "\n",
    "The model parameterisations have the purpose of modifying the information in the reference classes according to a smaller number of parameters. This is especially important for retrievals, when these parameters are modified in each iteration to find the best fit between the modelled and measured spectra. Each of the model parameterisations is defined by some Variable IDs and Variable parameters, which are defined in the *.apr* file. This file can be read using the *read_apr* function on the Variables class. \n",
    "\n",
    "At this stage, only a number of models have been implemented in archNEMESIS with respect to NEMESIS. Detailed information about each of the model parameterisations is included in the Examples. In the following table, a bried summary describing each of these models is included:::\n",
    "\n",
    "<!-- Model 0 -->\n",
    "<details>\n",
    "  <summary>Model 0: Continuous atmospheric vertical profile.</summary>\n",
    "\n",
    "  <ul>\n",
    "  <li>No. of parameters: NP</li>\n",
    "  <li>No. of extra parameters: 0</li>\n",
    "  <li>Short description: Specify the values of all vertical levels of the atmospheric profiles.</li>\n",
    "  <li>Format in .apr file: The next line of the .apr file includes the name of a file where the a priori vertical profile is listed. In this file, the data that has to be included is:</li>\n",
    "      <ul>\n",
    "      <li>Number of vertical levels (NP) | Correlation length</li>\n",
    "      <li>Pressure (level 1) | Value (level 1) | Uncertainty (level 1) </li>\n",
    "      <li>Pressure (level 2) | Value (level 2) | Uncertainty (level 2) </li>\n",
    "      <li>...</li>\n",
    "      <li>Pressure (level NP) | Value (level NP) | Uncertainty (level NP) </li>\n",
    "      </ul>\n",
    "  </ul>\n",
    "\n",
    "</details>\n",
    "\n",
    "<!-- Model 2 -->\n",
    "<details>\n",
    "  <summary>Model 2: Scaling of an atmospheric vertical profile.</summary>\n",
    "\n",
    "  - **No. of parameters:** 1\n",
    "  - **No. of extra parameters:** 0\n",
    "  - **Short description:** Multiply vertical profile with a scaling factor.\n",
    "  - **Format in .apr file:**  The next line includes:\n",
    "      - Scaling factor | Uncertainty \n",
    "\n",
    "</details>\n",
    "\n",
    "<!-- Model 3 -->\n",
    "<details>\n",
    "  <summary>Model 3: Scaling of an atmospheric vertical profile (carried in log-space).</summary>\n",
    "\n",
    "  - **No. of parameters:** 1\n",
    "  - **No. of extra parameters:** 0\n",
    "  - **Short description:** Multiply vertical profile with a scaling factor. Internally within the code this scaling factor is converted to log-space. This is suitable for quantities that can vary over orders of magnitudes and that cannot go negative.\n",
    "  - **Format in .apr file:**  The next line includes:\n",
    "      - Scaling factor | Uncertainty \n",
    "\n",
    "</details>\n",
    "\n",
    "\n",
    "\n",
    "| Model ID | No. of parameters | No. of extra parameters | Description |\n",
    "| --- | --- | --- | --- |\n",
    "| 0 | NP | 0 | Continuous atmospheric vertical profile |\n",
    "| 2 | 1 | 0 | Scaling of an atmospheric vertical profile |\n",
    "| 3 | 1 | 0 | Scaling of an atmospheric vertical profile in log space |\n",
    "| 9 | 3 | 0 | Cloud represented by base height, optical depth and fractional scale height |\n",
    "| 32 | 3 | 0 | Cloud represented by base pressure, optical depth and fractional scale height. Below the pressure level the cloud exponentially decreases in opacity with scale height 1km. |\n",
    "| 45 | 3 | 0 | Irwin CH4 model. Variable deep tropospheric abundance, tropospheric relative humidity, and stratospheric abundance.|\n",
    "| 47 | 3 | 0 | Gaussian cloud represented by optical thickness, mean pressure and FWHM in units of log pressure. | |\n",
    "| 49 | NP | 0 | Continuous atmospheric vertical profile in linear scale (i.e., allowing negative abundances) |\n",
    "| 50 | NP | 0 | Continuous profile of scaling factors in linear scale |\n",
    "| 51 | 1 | 0 | Parameterisation 49 in NEMESIS. Profile is a simple scaling of a different profile. |\n",
    "| 229 | 7 | 0 | Model for double-Gaussian instrument line shape for ACS MIR/TGO (Alday et al. 2019) |\n",
    "| 231 | NGEOM $\\times$ (NDEGREE+1) | 2 | Scaling of spectra using a spectrally-varying scaling factor (following a polynomial of degree N) |\n",
    "| 444 | 2+N_REFIND_IM | 0 | Size distribution and imaginary refractive index spectrum of aerosol species |\n",
    "| 447 | 1 | 0 | Doppler velocity of the measurement in km/s |\n",
    "| 666 | 1 | 1 | Definition of pressure at a given tangent height, with the rest of the levels being calculated through the hydrostatic equilibrium equation |\n",
    "| 667 | 1 | 0 | Scaling of modelled spectrum with a dillution factor |\n",
    "| 2310 | NGEOM $\\times$ (NDEGREE+1) $\\times$ NWINDOWS | 3 | Same as model 231 but applying it to different spectral windows |\n",
    "\n",
    "\n",
    "## Adding custom model parameterisations\n",
    "\n",
    "It is possible that the users may want to define their own custom parameterisations, to create new retrieval schemes for the specific purposes. In order to do so, one must implement the following steps:\n",
    "\n",
    "1. Select one model parameterisation ID number, considering the numbers already taken by others.\n",
    "2. Open the file for the class *Variables_0.py*, and change the function *read_apr()* to tell archNEMESIS how to read this parameterisation from the *.apr* file. In this function, different fields must be properly filled:\n",
    "   - Variables.VARIDENT : This field represents the Variable IDs, unique for this model parameterisation.\n",
    "   - Variables.VARPARAM : This field represents any extra parameters the code needs to read to properly represent the parameterisation, but that will not be retrieved (i.e., they are not included in the state vector).\n",
    "   - Variables.XA : This field represents the state vector and must be filled accordingly based on the parameters stored on the *.apr* file.\n",
    "   - Variables.SA : This field represents the a priori covariance matrix and must be filled accordingly based on the parameters stored on the *.apr* file.\n",
    "   - Variables.LX : This field tells whether a particular element of the state vector is carried in log-scale.\n",
    "   - Variables.NUM : This field tells whether the jacobian matrix for this particular element of the state vector can be computed analytically (0) or numerically (1).\n",
    "   \n",
    "3. Open the file for the class *Variables_0.py*, and change the function *calc_NXVAR()* to tell archNEMESIS the number of parameters in the state vector associated with this particular model parameterisation.\n",
    "4. Open the file *subprofretg.py*, which maps the variables of the state vector to the different classes included in the forward model (e.g., Atmosphere, Surface...), as well as the gradients in the case that these are calculated analytically.\n"
   ]
  },
  {
   "cell_type": "markdown",
   "id": "420f53bc-7969-4019-89c1-aeced5da25da",
   "metadata": {},
   "source": [
    ".. dropdown:: Click on me to see my content!\n",
    "\n",
    "    I'm the content which can be anything:\n",
    "\n",
    "    .. link-button:: https://example.com\n",
    "        :text: Like a Button\n",
    "        :classes: btn-primary"
   ]
  },
  {
   "cell_type": "markdown",
   "id": "2a8e1c2c-c292-46de-a401-1432b77509d4",
   "metadata": {},
   "source": [
    ":::{dropdown} Dropdown title\n",
    "Dropdown content\n",
    ":::"
   ]
  },
  {
   "cell_type": "markdown",
   "id": "dd76a48a-1a6f-480b-84b7-70b589546891",
   "metadata": {},
   "source": [
    "\n",
    "<div>\n",
    "<details><summary>Model 0: Continuous atmospheric vertical profile.</summary>\n",
    "\n",
    "  <ul>\n",
    "    <li><strong>No. of parameters:</strong> NP</li>\n",
    "    <li><strong>No. of extra parameters:</strong> 0</li>\n",
    "    <li><strong>Short description:</strong> Specify the values...</li>\n",
    "    ...\n",
    "  </ul>\n",
    "</details>\n",
    "</div>\n"
   ]
  },
  {
   "cell_type": "markdown",
   "id": "26e29d8b-8f99-45c3-a652-0eeb81ebb67e",
   "metadata": {},
   "source": [
    "<div class=\"alert alert-info\">\n",
    "\n",
    "Note\n",
    "\n",
    "This is a note!\n",
    "\n",
    "</div>\n"
   ]
  },
  {
   "cell_type": "markdown",
   "id": "5562828f-c28e-45e3-9720-34a49296c111",
   "metadata": {},
   "source": [
    "<details>\n",
    "  <summary>Click to expand</summary>\n",
    "  <p>This content will be shown when you click.</p>\n",
    "  <ul>\n",
    "    <li>Item 1</li>\n",
    "    <li>Item 2</li>\n",
    "  </ul>\n",
    "</details>"
   ]
  },
  {
   "cell_type": "raw",
   "id": "5fc7f2cb-12d7-4169-946b-fbf8be143ba0",
   "metadata": {},
   "source": [
    ".. raw:: html\n",
    "\n",
    "   <details>\n",
    "     <summary>Click to expand</summary>\n",
    "     <p>This content will be shown when you click.</p>\n",
    "     <ul>\n",
    "       <li>Item 1</li>\n",
    "       <li>Item 2</li>\n",
    "     </ul>\n",
    "   </details>"
   ]
  },
  {
   "cell_type": "markdown",
   "id": "64c0aba6-63e0-4012-bec1-5603d13d1f36",
   "metadata": {},
   "source": [
    ".. raw:: html\n",
    "\n",
    "   <details>\n",
    "     <summary>Click to expand</summary>\n",
    "     <p>This content will be shown when you click.</p>\n",
    "     <ul>\n",
    "       <li>Item 1</li>\n",
    "       <li>Item 2</li>\n",
    "     </ul>\n",
    "   </details>"
   ]
  },
  {
   "cell_type": "code",
   "execution_count": null,
   "id": "7fb7890c-418b-4c20-b74f-b7eacfb61bd8",
   "metadata": {},
   "outputs": [],
   "source": []
  }
 ],
 "metadata": {
  "kernelspec": {
   "display_name": "Python 3 (ipykernel)",
   "language": "python",
   "name": "python3"
  },
  "language_info": {
   "codemirror_mode": {
    "name": "ipython",
    "version": 3
   },
   "file_extension": ".py",
   "mimetype": "text/x-python",
   "name": "python",
   "nbconvert_exporter": "python",
   "pygments_lexer": "ipython3",
   "version": "3.11.10"
  }
 },
 "nbformat": 4,
 "nbformat_minor": 5
}
