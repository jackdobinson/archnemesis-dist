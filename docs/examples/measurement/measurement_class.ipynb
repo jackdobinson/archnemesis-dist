{
 "cells": [
  {
   "cell_type": "markdown",
   "id": "9d5ff362-a236-440b-84c0-ca3253ca3aaf",
   "metadata": {},
   "source": [
    "# Defining the Measurement\n",
    "\n",
    "In archNEMESIS, the measurement geometry and spectral characteristics are defined using the Measurement class. In this notebook, we aim to provide a tutorial of the several functionalities of this class, including reading/writing the input files for running retrievals and forward models or just performing useful calculations to define or modify this class."
   ]
  },
  {
   "cell_type": "code",
   "execution_count": 1,
   "id": "49e66cd2-a530-43db-a6a4-b95a38a9bb7f",
   "metadata": {},
   "outputs": [],
   "source": [
    "import archnemesis as ans\n",
    "import numpy as np\n",
    "import matplotlib.pyplot as plt"
   ]
  },
  {
   "cell_type": "markdown",
   "id": "d874145a-3666-4e27-b424-922d39261092",
   "metadata": {},
   "source": [
    "## 1. Reading the geometry from the input files\n",
    "\n",
    "The methods within the Measurement class can be used to read/write the information from/to the NEMESIS and archNEMESIS input files. In particular, in a NEMESIS run the atmospheric information is defined in the .spx and .sha or .fil files, while in an archNEMESIS run the atmospheric information is defined in the common HDF5 file.\n",
    "\n",
    "In the following sections we will introduce the specifics about the different variables in the Measurement class. In this section we will just show how to read/write the files and print some useful information using the methods of the class."
   ]
  },
  {
   "cell_type": "markdown",
   "id": "d266ccd9-7774-4bad-bcb9-c4a60eb75514",
   "metadata": {},
   "source": [
    "### Reading the information from the NEMESIS files\n",
    "\n",
    "The information about the measurement is mainly read from two input files:\n",
    "\n",
    "- Most of the information about the measurement (geometry and the actual measured spectrum) is stored in the *.spx* file.\n",
    "- The *.sha* or *.fil* files include the information about the spectral resolution of the measurement. In particular:\n",
    "    - If the full width at half maximum (FWHM) of the instrument lineshape is >0, then the lineshape is defined in the *.sha* file using IDs for each kind of lineshape. These shapes are later explained in Section 2.\n",
    "    - If the FWHM of the instrument lineshape is <0, then the lineshape is defined explicitly at each convolution wavelength in the *.fil* file. "
   ]
  },
  {
   "cell_type": "code",
   "execution_count": 2,
   "id": "eb029380-46c1-4bb5-a644-a1a8f115cbcb",
   "metadata": {},
   "outputs": [
    {
     "name": "stdout",
     "output_type": "stream",
     "text": [
      "Spectral resolution of the measurement (FWHM) ::  0.1\n",
      "Field-of-view centered at ::  Latitude 13.4538 - Longitude 5.45011\n",
      "There are  1 geometries in the measurement vector\n",
      "\n",
      "GEOMETRY 1\n",
      "Minimum wavelength/wavenumber ::  0.476  - Maximum wavelength/wavenumber ::  0.933\n",
      "Nadir-viewing geometry. Latitude ::  13.4538  - Longitude ::  0.0  - Emission angle ::  18.1584  - Solar Zenith Angle ::  17.4078  - Azimuth angle ::  157.432\n"
     ]
    }
   ],
   "source": [
    "#Initialising the Measurement class\n",
    "Measurement = ans.Measurement_0(runname='jupiter_nadir')\n",
    "\n",
    "#Reading the .spx file with the observations\n",
    "Measurement.read_spx()\n",
    "\n",
    "#Showing a summary of the observations\n",
    "Measurement.summary_info()\n",
    "\n",
    "#Reading the ID for the instrument lineshape from the .sha file (since FWHM>0)\n",
    "Measurement.read_sha()"
   ]
  },
  {
   "cell_type": "markdown",
   "id": "a2a7125b-54af-477d-8ab9-748835073528",
   "metadata": {},
   "source": [
    "## 2. Defining the geometry of the observation\n",
    "\n",
    "Remote sensing of planetary atmospheres can be mainly performed using three kinds of observations: nadir-viewing, limb-viewing and solar or stelar occultations. In addition, recent measurements of planetary atmospheres also include upward-looking measurements by instruments on the surface. NEMESIS can model the electromagnetic spectrum in any of these types of observations, but the fields of the Measurement class must be filled accordingly to set up the correct geometry. In this section, we provide examples of *.spx* or HDF5 input files for these different kinds of observations.\n",
    "\n",
    "<center><img src=\"./observation_sketch.png\" alt=\"Drawing\" style=\"width: 600px;\"/></center>"
   ]
  },
  {
   "cell_type": "markdown",
   "id": "0acc257b-1a2d-4040-b822-f15ec57f3e8d",
   "metadata": {},
   "source": [
    "### Nadir-viewing observations: single point measurements\n",
    "\n",
    "Nadir-viewing observations are those in which the instruments observes straight down to the planet. Depending on the observation and the field-of-view (FOV) of the instrument, the spectra may represent just a single point of the planet, while the FOV of other measurements might encompass a large fraction or even the whole planet.\n",
    "\n",
    "In the simplest case, where the measurement just corresponds to a single point on the planet, the main parameters describing the geometry are:\n",
    "\n",
    "- *FLAT* and *FLON* represent the latitude and longitude of the sub-observer point on the planet.\n",
    "- *EMISS_ANG* is the emission angle, defined as represented in the figure below.\n",
    "- *SOL_ANG* is the solar zenith angle, defined as represented in the figure below.\n",
    "- *EMISS_ANG* is the azimuth angle between the solar and observer vectors, defined as represented in the figure below. An azimuth angle of 0 degrees represents forward scattering, while an azimuth angle of 180 degrees represents backward scattering.\n",
    "\n",
    "<center><img src=\"./geometry_nadir.png\" alt=\"Drawing\" style=\"width: 700px;\"/></center>"
   ]
  },
  {
   "cell_type": "markdown",
   "id": "797dd487-d09a-462e-b6b6-f5d867fece3c",
   "metadata": {},
   "source": [
    "### Nadir-viewing observations: disc averaging\n",
    "\n",
    "There can be cases when the FOV of the instrument for a given measurement encompasses a relatively large portion of the planet disc, where the viewing geometry and the atmospheric properties may change. In those cases, we may need to compute several forward models and combine them to reconstruct the FOV. archNEMESIS can model this situation by allowing the definition of a number of averaging points (*NAV*), where several points in the FOV can be specified and later averaged later on. In particular, the FOV is reconstructed by using a weighted average, where each of the averaging points is given a particular weight (WGEOM). \n",
    "\n",
    "<center><img src=\"./geometry_discave.png\" alt=\"Drawing\" style=\"width: 700px;\"/></center>"
   ]
  },
  {
   "cell_type": "markdown",
   "id": "2f5abbc1-eaab-4cad-957e-4370cda03793",
   "metadata": {},
   "source": [
    "### Upward-looking observations\n",
    "\n",
    "archNEMESIS can also model the spectrum of a planetary atmosphere from an observer standing on the surface of the planet and looking at some point of the sky. This kind of geometry can be specified by setting the correct geometry in the atmosphere. In particular, the only difference with respect to the nadir-viewing observations resides in the definition of the emission angle. In particular, for an upward-looking observation, the emission angle needs to be defined as *EMISS_ANG* > 90, as indicated in the figure below.\n",
    "\n",
    "<center><img src=\"./geometry_upward.png\" alt=\"Drawing\" style=\"width: 700px;\"/></center>"
   ]
  },
  {
   "cell_type": "markdown",
   "id": "5f46b645-b9d6-4983-8b79-2777f78f7d6e",
   "metadata": {},
   "source": [
    "### Limb-viewing observations\n",
    "\n",
    "Instead of looking directly towards the surface, measurements of the planet's limb may be performed. In order to specify this kind of geometry in archNEMESIS, the emission angle *EMISS_ANG* needs to be negative. In this case, the position of the *SOL_ANG* parameter in the *.spx* is changed by the tangent height of the measurement *TANHE*. \n",
    "\n",
    "<center><img src=\"./geometry_limb.png\" alt=\"Drawing\" style=\"width: 700px;\"/></center>"
   ]
  }
 ],
 "metadata": {
  "kernelspec": {
   "display_name": "Python 3 (ipykernel)",
   "language": "python",
   "name": "python3"
  },
  "language_info": {
   "codemirror_mode": {
    "name": "ipython",
    "version": 3
   },
   "file_extension": ".py",
   "mimetype": "text/x-python",
   "name": "python",
   "nbconvert_exporter": "python",
   "pygments_lexer": "ipython3",
   "version": "3.11.7"
  }
 },
 "nbformat": 4,
 "nbformat_minor": 5
}
